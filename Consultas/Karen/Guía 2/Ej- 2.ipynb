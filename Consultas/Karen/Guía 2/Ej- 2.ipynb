{
 "cells": [
  {
   "cell_type": "code",
   "execution_count": 40,
   "id": "canadian-discharge",
   "metadata": {},
   "outputs": [],
   "source": [
    "import numpy as np\n",
    "import matplotlib.pyplot as plt\n",
    "import copy\n",
    "#MDF_COMENT\n",
    "np.set_printoptions(precision=6, linewidth=120)"
   ]
  },
  {
   "cell_type": "markdown",
   "id": "minus-clock",
   "metadata": {},
   "source": [
    "# Problema 2:\n",
    "Considere el entramado mostrado en la figura, con una fuerza aplicada de 20 kN. Calcule los desplazamientos de cada uno de los nodos y las tensiones que sufre cada elemento. Todos los elementos tienen E = 210 GPa y una sección de 10 cm2, excepto el elemento 3, que tiene una sección de 20 cm2. Los elementos 2 y 5 tienen una longitud de 8 metros y el elemento 3 de 4 metros."
   ]
  },
  {
   "cell_type": "code",
   "execution_count": 41,
   "id": "personalized-stereo",
   "metadata": {},
   "outputs": [],
   "source": [
    "def loc_a_glob (z):\n",
    "#    z=z*np.pi/180 # pero la arctg ya te lo da en rad!\n",
    "#MDF COMMENT como me costó!\n",
    "    c=np.cos(z)\n",
    "    s=np.sin(z)\n",
    "    K=[[ c**2,    c*s ,   -c**2, -c*s] , \n",
    "       [ c*s,      s**2,   -c*s, -s**2] , \n",
    "       [-c**2,    -c*s,    c**2,  c*s], \n",
    "       [-c*s,     -s**2,    c*s,   s**2]]\n",
    "#    return K\n",
    "    return np.array(K)"
   ]
  },
  {
   "cell_type": "code",
   "execution_count": 80,
   "id": "thermal-rebate",
   "metadata": {},
   "outputs": [],
   "source": [
    "N = 4                      # cantidad de nodos = cantidad de elementos -1\n",
    "# MDF_COMMENT tenes un problema de unidades. te conviene usar todo en mks :\n",
    "#E = np.ones(N+1)*210            # Módulo elástico de cada elemento GPa\n",
    "E = np.ones(N+1)*210e9\n",
    "# A = np.ones(N+1)*10             # Area de cada elementos cm2\n",
    "A = 10*np.ones(N+1)*1e-4\n",
    "A[2] = 20e-4\n",
    "L = np.array([0, 8, 4, 0, 8]) #MDF_COMMENT *100  # Longitud de cada elemento cm\n",
    "GL = 2                               # Grados de libertad\n",
    "\n",
    "#MDF_COMMNET esta bien para este ejercicio, pero las longitudes y las dimensiones las tenes que poder \n",
    "#MDF_COMMENT definir en a partir de la matriz de nodos.\n",
    "\n",
    "MN = [[0,0] , [L[1],L[2]] , [L[1]+L[4],0] , [L[1],0]]  # MAtriz de nodos (posiciones de los nodos) (ejercicio)\n",
    "     # 0 1       2    3       4        5      6   7\n",
    "MC = [ [1, 0] , [3,0] , [1,3] , [2,3], [2, 1]  ]      # Matriz de conectividad de elementos (el  elemento 0: entre nodo 0: MN[0] y nodo 1 MN[1])  ) (ejercicio)\n",
    "\n",
    "\n",
    "# ff=np.array([[2,0], [4,0], [5,-20000], [6,0]]) # columnas: nodo y eje - filas: valor de fuerza conocido\n",
    "ff=np.array([[2,0], [4,0], [7,-20000], [6,0]]) # columnas: nodo y eje - filas: valor de fuerza conocido\n",
    "#                          ||\n",
    "# no hice una matriz de datos desplazamientos pq son todos ceros, cuando el codigo funcione, lo generalizo."
   ]
  },
  {
   "cell_type": "markdown",
   "id": "junior-scheme",
   "metadata": {},
   "source": [
    "claro pero eso tambien te falta, fijate que te falta la condicion de contorno sobre los gl 0 y 1!"
   ]
  },
  {
   "cell_type": "code",
   "execution_count": 80,
   "id": "treated-bracket",
   "metadata": {},
   "outputs": [],
   "source": [
    "u = np.zeros(N*GL)\n",
    "\n",
    "\n",
    "K = np.zeros([N*GL,N*GL])     # Matriz rigidez GLOBAL kN/m\n",
    "\n",
    "\n",
    "\n",
    "for i in range(len(MC)):\n",
    "    dx= MN[MC[i][0]][0] - MN[MC[i][1]][0]\n",
    "    dy = MN[MC[i][0]][1] - MN[MC[i][1]][1]\n",
    "    dL=np.sqrt( dx ** 2 + dy ** 2 )\n",
    "    k=E[i]*A[i]/dL    \n",
    "    z=np.arctan2(dy,dx)          # Creo que el error esta acá o en R\n",
    "#    R=k*np.array(loc_a_glob(z))  # Matriz de rigidez local rotada\n",
    "    R = k*loc_a_glob(z)\n",
    "    n1=MC[i][0]*2                #index nodo 1 en x del elemento i\n",
    "    n2=MC[i][1]*2                #index nodo 2 en x del elemento i\n",
    "    # MDF_COMMENT es interesante que te funcionan los rangos. hay que tener cuidado igual con el\n",
    "    # índice extra que necesitas\n",
    "    K[n1:n1+2,n1:n1+2]+=R[0:2,0:2]\n",
    "    K[n1:n1+2,n2:n2+2]+=R[0:2,2:4]\n",
    "    K[n2:n2+2,n1:n1+2]+=R[2:4,0:2]\n",
    "    K[n2:n2+2,n2:n2+2]+=R[2:4,2:4]\n",
    "#    K[n1:n1+2,n1:n1+2]+=R[0:2,0:2]\n",
    "#    K[n1:n1+2,n2:n2+2]+=R[0:2,2:4]\n",
    "#    K[n2:n2+2,n1:n1+2]+=R[2:4,0:2]\n",
    "#    K[n2:n2+2,n2:n2+2]+=R[2:4,2:4]"
   ]
  },
  {
   "cell_type": "code",
   "execution_count": 44,
   "id": "retained-spread",
   "metadata": {},
   "outputs": [],
   "source": [
    "#Condiciones de contorno:\n",
    "\n",
    "kk=np.zeros((len(ff),len(ff)))   #Matriz reducida para calcular desplazamientos desconocidos\n",
    "for i in range(len(ff)):\n",
    "    for j in range(len(ff)):\n",
    "        kk[i, j]=K[ff[i,0], ff[j,0]]\n",
    "#MDF_COMMENT no necesitas reducirla de antemano, si tenes el vector de índices de vínculos : f[:,0] la podes\n",
    "#MDF_COMMENT armar con np.ix:\n",
    "#MDF_COMMENT uu=np.linalg.solve(kk, ff[:,1])"
   ]
  },
  {
   "cell_type": "markdown",
   "id": "vocational-position",
   "metadata": {},
   "source": [
    "_comentario_\n",
    "\n",
    "y en realidad te falta una parte de la ecuacion que daría  cuentas de cualquier desplazamiento impuesto en los nodos.\n",
    "te falta el vector s (el complemento de f[:,0]"
   ]
  },
  {
   "cell_type": "code",
   "execution_count": 81,
   "id": "clear-mortality",
   "metadata": {},
   "outputs": [
    {
     "data": {
      "text/plain": [
       "array([2, 4, 7, 6])"
      ]
     },
     "execution_count": 81,
     "metadata": {},
     "output_type": "execute_result"
    }
   ],
   "source": [
    "ff[:,0]"
   ]
  },
  {
   "cell_type": "code",
   "execution_count": 82,
   "id": "political-dating",
   "metadata": {},
   "outputs": [
    {
     "data": {
      "text/plain": [
       "array([0, 1, 3, 5])"
      ]
     },
     "execution_count": 82,
     "metadata": {},
     "output_type": "execute_result"
    }
   ],
   "source": [
    "I = np.linspace(0,7,8).astype(int) \n",
    "s = np.delete( I , ff[:,0] )\n",
    "s"
   ]
  },
  {
   "cell_type": "markdown",
   "id": "activated-portal",
   "metadata": {},
   "source": [
    "$$ U_r = K_{r,r} ^{-1} \\left[ F_r - K_{r,s} U_s \\right] $$\n",
    "\n",
    "```.python\n",
    "U[r] = np.linalg.solve(\n",
    "   K[ np.ix( ff[:,0], ff[:,0] ) ] ,\n",
    "   ff[:,1] - K[np.ix_( f[:,0], s ) ) ].\n",
    ")\n",
    "```"
   ]
  },
  {
   "cell_type": "code",
   "execution_count": 83,
   "id": "underlying-stable",
   "metadata": {},
   "outputs": [],
   "source": [
    "uu = np.linalg.solve(K[np.ix_(ff[:,0], ff[:,0])], ff[:,1]-K[np.ix_(ff[:,0], s)].dot(u[s]) )"
   ]
  },
  {
   "cell_type": "code",
   "execution_count": 84,
   "id": "narrow-chick",
   "metadata": {},
   "outputs": [],
   "source": [
    "#for i in range(len(ff)):\n",
    "#    u[ff[i,0]]=uu[i]\n",
    "u[ff[:,0]] = uu"
   ]
  },
  {
   "cell_type": "markdown",
   "id": "available-grenada",
   "metadata": {},
   "source": [
    "Las fuerzas no es necesario resolver, sino que son simplemente una multiplicacion matricial:"
   ]
  },
  {
   "cell_type": "code",
   "execution_count": 85,
   "id": "moved-yacht",
   "metadata": {},
   "outputs": [],
   "source": [
    "#F=np.linalg.solve(K,u)\n",
    "\n",
    "#F, u"
   ]
  },
  {
   "cell_type": "code",
   "execution_count": 86,
   "id": "offensive-spiritual",
   "metadata": {},
   "outputs": [],
   "source": [
    "F = K.dot(u)"
   ]
  },
  {
   "cell_type": "code",
   "execution_count": 87,
   "id": "outer-april",
   "metadata": {},
   "outputs": [
    {
     "data": {
      "text/plain": [
       "array([ 1.754368e-29,  3.061617e-13,  0.000000e+00,  2.000000e+04,  1.754368e-29, -3.061617e-13,  0.000000e+00,\n",
       "       -2.000000e+04])"
      ]
     },
     "execution_count": 87,
     "metadata": {},
     "output_type": "execute_result"
    }
   ],
   "source": [
    "F"
   ]
  },
  {
   "cell_type": "code",
   "execution_count": 88,
   "id": "seventh-phase",
   "metadata": {},
   "outputs": [],
   "source": [
    "F[np.abs(F/np.max(F)) < 1e-12 ]  = 0"
   ]
  },
  {
   "cell_type": "code",
   "execution_count": 89,
   "id": "stuffed-sudan",
   "metadata": {},
   "outputs": [
    {
     "data": {
      "text/plain": [
       "array([     0.,      0.,      0.,  20000.,      0.,      0.,      0., -20000.])"
      ]
     },
     "execution_count": 89,
     "metadata": {},
     "output_type": "execute_result"
    }
   ],
   "source": [
    "F"
   ]
  },
  {
   "cell_type": "markdown",
   "id": "productive-privilege",
   "metadata": {},
   "source": [
    "# Confirmación de suma de rigidez local en la global:\n",
    "\n",
    "x=np.array([[1,1,1,1], [2,2,2,2],[3,3,3,3],[4,4,4,4]])\n",
    "y=np.array([[5,5,5,5], [6,6,6,6],[7,7,7,7],[8,8,8,8]])\n",
    "z=np.array([[9,9,9,9], [10,10,10,10],[12,12,26,26],[13,13,25,25]])\n",
    "\n",
    "K = np.zeros([6,6])  \n",
    "e=[x,y,z]\n",
    "MC=[[0,1],[1,2],[2,0]]\n",
    "for i in range(len(MC)): \n",
    "    K0=copy.copy(K)\n",
    "    n1=MC[i][0]*2\n",
    "    n2=MC[i][1]*2\n",
    "    if i==0:\n",
    "        kLoc=x\n",
    "    elif i==1:\n",
    "        kLoc=y\n",
    "    else:\n",
    "        kLoc=z\n",
    "    K[n1:n1+2,n1:n1+2]+=kLoc[0:2,0:2]\n",
    "    K[n1:n1+2,n2:n2+2]+=kLoc[0:2,2:4]\n",
    "    K[n2:n2+2,n1:n1+2]+=kLoc[2:4,0:2]\n",
    "    K[n2:n2+2,n2:n2+2]+=kLoc[2:4,2:4]\n",
    "    print(K-K0)"
   ]
  },
  {
   "cell_type": "code",
   "execution_count": null,
   "id": "african-parliament",
   "metadata": {},
   "outputs": [],
   "source": []
  }
 ],
 "metadata": {
  "kernelspec": {
   "display_name": "Python 3",
   "language": "python",
   "name": "python3"
  },
  "language_info": {
   "codemirror_mode": {
    "name": "ipython",
    "version": 3
   },
   "file_extension": ".py",
   "mimetype": "text/x-python",
   "name": "python",
   "nbconvert_exporter": "python",
   "pygments_lexer": "ipython3",
   "version": "3.9.2"
  }
 },
 "nbformat": 4,
 "nbformat_minor": 5
}
